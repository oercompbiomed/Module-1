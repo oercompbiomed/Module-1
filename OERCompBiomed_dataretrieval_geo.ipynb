{
  "cells": [
    {
      "metadata": {
        "collapsed": true
      },
      "cell_type": "markdown",
      "source": "# Data retrieval exercise 1"
    },
    {
      "metadata": {},
      "cell_type": "markdown",
      "source": "In this exercise, we are downloading data from the NCBI GEO database via programmatic access. This exercise is based on the example from https://geoparse.readthedocs.io/en/latest/usage.html#examples."
    },
    {
      "metadata": {},
      "cell_type": "markdown",
      "source": "## Data set"
    },
    {
      "metadata": {},
      "cell_type": "markdown",
      "source": "The data set is from the study \"A circadian gene expression atlas in mammals assayed by microarray\" by Zhang et al (http://www.pnas.org/content/111/45/16219.long). The data is available in the GEO database (https://www.ncbi.nlm.nih.gov/geo/query/acc.cgi?acc=GSE54650, accession ID 54650)."
    },
    {
      "metadata": {},
      "cell_type": "markdown",
      "source": "## Importing the modules"
    },
    {
      "metadata": {},
      "cell_type": "markdown",
      "source": "The first step is to install and import the required Python libraries. "
    },
    {
      "metadata": {
        "trusted": true
      },
      "cell_type": "code",
      "source": "import sys\n!{sys.executable} -m pip install GEOparse\n",
      "execution_count": 1,
      "outputs": [
        {
          "output_type": "stream",
          "text": "Collecting GEOparse\n\u001b[?25l  Downloading https://files.pythonhosted.org/packages/67/f6/9206e1acda1858fa9a117ae91d9541e011735e672d58be58a5ee0947ef13/GEOparse-1.1.0.tar.gz (189kB)\n\u001b[K    100% |████████████████████████████████| 194kB 961kB/s ta 0:00:01\n\u001b[?25hRequirement already satisfied: numpy>=1.7 in /home/nbuser/anaconda3_501/lib/python3.6/site-packages (from GEOparse) (1.14.6)\nRequirement already satisfied: pandas>=0.17 in /home/nbuser/anaconda3_501/lib/python3.6/site-packages (from GEOparse) (0.22.0)\nCollecting wgetter>=0.6 (from GEOparse)\n  Downloading https://files.pythonhosted.org/packages/8e/ce/7f160ed9f0e16a5365bcbac1dbc6bad1631e9fc91610a444fbdebede3e8b/wgetter-0.7.tar.gz\nCollecting biopython>=1.71 (from GEOparse)\n\u001b[?25l  Downloading https://files.pythonhosted.org/packages/28/15/8ac646ff24cfa2588b4d5e5ea51e8d13f3d35806bd9498fbf40ef79026fd/biopython-1.73-cp36-cp36m-manylinux1_x86_64.whl (2.2MB)\n\u001b[K    100% |████████████████████████████████| 2.2MB 256kB/s ta 0:00:01\n\u001b[?25hRequirement already satisfied: python-dateutil>=2 in /home/nbuser/anaconda3_501/lib/python3.6/site-packages (from pandas>=0.17->GEOparse) (2.7.5)\nRequirement already satisfied: pytz>=2011k in /home/nbuser/anaconda3_501/lib/python3.6/site-packages (from pandas>=0.17->GEOparse) (2018.7)\nRequirement already satisfied: six>=1.5 in /home/nbuser/anaconda3_501/lib/python3.6/site-packages (from python-dateutil>=2->pandas>=0.17->GEOparse) (1.11.0)\nBuilding wheels for collected packages: GEOparse, wgetter\n  Running setup.py bdist_wheel for GEOparse ... \u001b[?25ldone\n\u001b[?25h  Stored in directory: /home/nbuser/.cache/pip/wheels/f3/aa/77/45a2f1517e7545aaabce83d4ad371e4f58aa818e4ee38691cd\n  Running setup.py bdist_wheel for wgetter ... \u001b[?25ldone\n\u001b[?25h  Stored in directory: /home/nbuser/.cache/pip/wheels/89/ce/c2/d0f63a63aec734d8af33209050a861f9a8583e11063dc27419\nSuccessfully built GEOparse wgetter\nInstalling collected packages: wgetter, biopython, GEOparse\nSuccessfully installed GEOparse-1.1.0 biopython-1.73 wgetter-0.7\n",
          "name": "stdout"
        }
      ]
    },
    {
      "metadata": {
        "trusted": true
      },
      "cell_type": "code",
      "source": "import GEOparse\nimport pandas as pd",
      "execution_count": 2,
      "outputs": []
    },
    {
      "metadata": {},
      "cell_type": "markdown",
      "source": "## Downloading the data"
    },
    {
      "metadata": {},
      "cell_type": "markdown",
      "source": "Downloading the example data set (https://geoparse.readthedocs.io/en/latest/usage.html#examples)"
    },
    {
      "metadata": {
        "trusted": true
      },
      "cell_type": "code",
      "source": "pwd",
      "execution_count": 3,
      "outputs": [
        {
          "output_type": "execute_result",
          "execution_count": 3,
          "data": {
            "text/plain": "'/home/nbuser/library'"
          },
          "metadata": {}
        }
      ]
    },
    {
      "metadata": {
        "trusted": true
      },
      "cell_type": "code",
      "source": "gse = GEOparse.get_GEO(geo=\"GSE1563\", destdir=\"./\")\n# A GSM (or a Sample) contains information the conditions and preparation of a Sample\n\nprint()\nprint(\"GSM example:\")\nfor gsm_name, gsm in gse.gsms.items():\n    print(\"Name: \", gsm_name)\n    print(\"Metadata:\",)\n    for key, value in gsm.metadata.items():\n        print(\" - %s : %s\" % (key, \", \".join(value)))\n    print (\"Table data:\",)\n    print (gsm.table.head())\n    break\n",
      "execution_count": 4,
      "outputs": [
        {
          "output_type": "stream",
          "text": "18-Jan-2019 07:54:43 DEBUG utils - Directory ./ already exists. Skipping.\n18-Jan-2019 07:54:44 INFO GEOparse - Downloading ftp://ftp.ncbi.nlm.nih.gov/geo/series/GSE1nnn/GSE1563/soft/GSE1563_family.soft.gz to ./GSE1563_family.soft.gz\n18-Jan-2019 07:54:44 INFO utils - Downloading ftp://ftp.ncbi.nlm.nih.gov/geo/series/GSE1nnn/GSE1563/soft/GSE1563_family.soft.gz to ./GSE1563_family.soft.gz\n",
          "name": "stderr"
        },
        {
          "output_type": "stream",
          "text": "D: 100% -  9.6MiB  /  9.6MiB  eta 0:00:00\n",
          "name": "stdout"
        },
        {
          "output_type": "stream",
          "text": "18-Jan-2019 07:55:58 INFO GEOparse - Parsing ./GSE1563_family.soft.gz: \n18-Jan-2019 07:55:58 DEBUG GEOparse - DATABASE: GeoMiame\n18-Jan-2019 07:55:58 DEBUG GEOparse - SERIES: GSE1563\n18-Jan-2019 07:55:58 DEBUG GEOparse - PLATFORM: GPL8300\n18-Jan-2019 07:56:26 DEBUG GEOparse - SAMPLE: GSM26805\n18-Jan-2019 07:56:27 DEBUG GEOparse - SAMPLE: GSM26806\n18-Jan-2019 07:56:27 DEBUG GEOparse - SAMPLE: GSM26807\n18-Jan-2019 07:56:28 DEBUG GEOparse - SAMPLE: GSM26808\n18-Jan-2019 07:56:28 DEBUG GEOparse - SAMPLE: GSM26809\n18-Jan-2019 07:56:29 DEBUG GEOparse - SAMPLE: GSM26810\n18-Jan-2019 07:56:29 DEBUG GEOparse - SAMPLE: GSM26811\n18-Jan-2019 07:56:30 DEBUG GEOparse - SAMPLE: GSM26812\n18-Jan-2019 07:56:31 DEBUG GEOparse - SAMPLE: GSM26813\n18-Jan-2019 07:56:31 DEBUG GEOparse - SAMPLE: GSM26814\n18-Jan-2019 07:56:32 DEBUG GEOparse - SAMPLE: GSM26815\n18-Jan-2019 07:56:32 DEBUG GEOparse - SAMPLE: GSM26816\n18-Jan-2019 07:56:33 DEBUG GEOparse - SAMPLE: GSM26817\n18-Jan-2019 07:56:33 DEBUG GEOparse - SAMPLE: GSM26818\n18-Jan-2019 07:56:34 DEBUG GEOparse - SAMPLE: GSM26819\n18-Jan-2019 07:56:34 DEBUG GEOparse - SAMPLE: GSM26820\n18-Jan-2019 07:56:35 DEBUG GEOparse - SAMPLE: GSM26821\n18-Jan-2019 07:56:36 DEBUG GEOparse - SAMPLE: GSM26822\n18-Jan-2019 07:56:36 DEBUG GEOparse - SAMPLE: GSM26823\n18-Jan-2019 07:56:37 DEBUG GEOparse - SAMPLE: GSM26824\n18-Jan-2019 07:56:37 DEBUG GEOparse - SAMPLE: GSM26825\n18-Jan-2019 07:56:38 DEBUG GEOparse - SAMPLE: GSM26826\n18-Jan-2019 07:56:38 DEBUG GEOparse - SAMPLE: GSM26827\n18-Jan-2019 07:56:39 DEBUG GEOparse - SAMPLE: GSM26828\n18-Jan-2019 07:56:39 DEBUG GEOparse - SAMPLE: GSM26829\n18-Jan-2019 07:56:40 DEBUG GEOparse - SAMPLE: GSM26830\n18-Jan-2019 07:56:41 DEBUG GEOparse - SAMPLE: GSM26831\n18-Jan-2019 07:56:41 DEBUG GEOparse - SAMPLE: GSM26832\n18-Jan-2019 07:56:42 DEBUG GEOparse - SAMPLE: GSM26833\n18-Jan-2019 07:56:42 DEBUG GEOparse - SAMPLE: GSM26834\n18-Jan-2019 07:56:43 DEBUG GEOparse - SAMPLE: GSM26835\n18-Jan-2019 07:56:44 DEBUG GEOparse - SAMPLE: GSM26836\n18-Jan-2019 07:56:44 DEBUG GEOparse - SAMPLE: GSM26837\n18-Jan-2019 07:56:45 DEBUG GEOparse - SAMPLE: GSM26838\n18-Jan-2019 07:56:45 DEBUG GEOparse - SAMPLE: GSM26839\n18-Jan-2019 07:56:46 DEBUG GEOparse - SAMPLE: GSM26840\n18-Jan-2019 07:56:46 DEBUG GEOparse - SAMPLE: GSM26841\n18-Jan-2019 07:56:47 DEBUG GEOparse - SAMPLE: GSM26842\n18-Jan-2019 07:56:48 DEBUG GEOparse - SAMPLE: GSM26843\n18-Jan-2019 07:56:48 DEBUG GEOparse - SAMPLE: GSM26844\n18-Jan-2019 07:56:49 DEBUG GEOparse - SAMPLE: GSM26845\n18-Jan-2019 07:56:49 DEBUG GEOparse - SAMPLE: GSM26846\n18-Jan-2019 07:56:50 DEBUG GEOparse - SAMPLE: GSM26847\n18-Jan-2019 07:56:50 DEBUG GEOparse - SAMPLE: GSM26848\n18-Jan-2019 07:56:51 DEBUG GEOparse - SAMPLE: GSM26849\n18-Jan-2019 07:56:52 DEBUG GEOparse - SAMPLE: GSM26850\n18-Jan-2019 07:56:52 DEBUG GEOparse - SAMPLE: GSM26851\n18-Jan-2019 07:56:53 DEBUG GEOparse - SAMPLE: GSM26852\n18-Jan-2019 07:56:53 DEBUG GEOparse - SAMPLE: GSM26853\n18-Jan-2019 07:56:54 DEBUG GEOparse - SAMPLE: GSM26854\n18-Jan-2019 07:56:55 DEBUG GEOparse - SAMPLE: GSM26855\n18-Jan-2019 07:56:55 DEBUG GEOparse - SAMPLE: GSM26856\n18-Jan-2019 07:56:56 DEBUG GEOparse - SAMPLE: GSM26857\n18-Jan-2019 07:56:56 DEBUG GEOparse - SAMPLE: GSM26858\n18-Jan-2019 07:56:57 DEBUG GEOparse - SAMPLE: GSM26859\n18-Jan-2019 07:56:58 DEBUG GEOparse - SAMPLE: GSM26860\n18-Jan-2019 07:56:58 DEBUG GEOparse - SAMPLE: GSM26861\n18-Jan-2019 07:56:59 DEBUG GEOparse - SAMPLE: GSM26862\n18-Jan-2019 07:56:59 DEBUG GEOparse - SAMPLE: GSM26863\n18-Jan-2019 07:57:00 DEBUG GEOparse - SAMPLE: GSM26864\n18-Jan-2019 07:57:01 DEBUG GEOparse - SAMPLE: GSM26865\n18-Jan-2019 07:57:01 DEBUG GEOparse - SAMPLE: GSM26866\n",
          "name": "stderr"
        },
        {
          "output_type": "stream",
          "text": "\nGSM example:\nName:  GSM26805\nMetadata:\n - title : C1PBL\n - geo_accession : GSM26805\n - status : Public on Jul 14 2004\n - submission_date : Jul 14 2004\n - last_update_date : Mar 16 2009\n - type : RNA\n - channel_count : 1\n - source_name_ch1 : PBL\n - organism_ch1 : Homo sapiens\n - taxid_ch1 : 9606\n - molecule_ch1 : total RNA\n - description : Clinical status: control healthy blood donor, Age: unknown, Sex: unknown, Immunosupression: none, Histopathology: none, Donor type: NA, Scr (mg/dL): unknown, Days post transplant: NA, Abbreviations used in sample description: Abreviations used to describe patient samples include the following: BX - Biopsy; PBL- Peripheral Blood Lymphocytes; CsA -Cyclosporine; MMF - Mycophenolate Mofetil; P - Prednisone; FK - Tacrolimus;  SRL - Sirolimus; CAD -Cadaveric;  LD - Live Donor; Scr - Serum Creatinine; ATN - Acute Tubular Necrosis CNI - Calcineurin Inhibitor; FSGS - Focal Segmental Glomerulosclerosis, Keywords = DNA microarrays, gene expression, kidney, rejection, transplant\n - platform_id : GPL8300\n - contact_name : Steven,,Head\n - contact_email : shead@scripps.edu\n - contact_phone : 858 784-2263\n - contact_institute : The Scripps Research Institute\n - contact_address : 10550 N Torrey Pines Rd\n - contact_city : La Jolla\n - contact_state : CA\n - contact_zip/postal_code : 92037\n - contact_country : USA\n - supplementary_file : ftp://ftp.ncbi.nlm.nih.gov/geo/samples/GSM26nnn/GSM26805/suppl/GSM26805.CEL.gz, ftp://ftp.ncbi.nlm.nih.gov/geo/samples/GSM26nnn/GSM26805/suppl/GSM26805.EXP.gz\n - series_id : GSE1563\n - data_row_count : 12625\nTable data:\n            ID_REF  VALUE ABS_CALL  DETECTION P-VALUE\n0   AFFX-MurIL2_at  211.5        A            0.50000\n1  AFFX-MurIL10_at  190.2        A            0.23906\n2   AFFX-MurIL4_at   96.5        A            0.68628\n3   AFFX-MurFAS_at   80.8        A            0.55935\n4   AFFX-BioB-5_at  847.3        P            0.00202\n",
          "name": "stdout"
        }
      ]
    },
    {
      "metadata": {
        "trusted": true
      },
      "cell_type": "code",
      "source": "# A GPL (or a Platform) contains a tab-delimited table containing the array definition eg. mappings from probe IDs to RefSeq IDs\n\nprint()\nprint(\"GPL example:\")\nfor gpl_name, gpl in gse.gpls.items():\n    print(\"Name: \", gpl_name)\n    print(\"Metadata:\",)\n    for key, value in gpl.metadata.items():\n        print(\" - %s : %s\" % (key, \", \".join(value)))\n    print(\"Table data:\",)\n    print(gpl.table.head())\n    break",
      "execution_count": 5,
      "outputs": [
        {
          "output_type": "stream",
          "text": "\nGPL example:\nName:  GPL8300\nMetadata:\n - title : [HG_U95Av2] Affymetrix Human Genome U95 Version 2 Array\n - geo_accession : GPL8300\n - status : Public on Mar 16 2009\n - submission_date : Mar 13 2009\n - last_update_date : Dec 13 2018\n - technology : in situ oligonucleotide\n - distribution : commercial\n - organism : Homo sapiens\n - taxid : 9606\n - manufacturer : Affymetrix\n - manufacture_protocol : see manufacturer's web site, , Based on this UniGene build and associated annotations, the HG-U95Av2 array represents approximately 10,000 full-length genes., \n - description : Affymetrix submissions are typically submitted to GEO using the GEOarchive method described at http://www.ncbi.nlm.nih.gov/projects/geo/info/geo_affy.html, , June 03, 2009: annotation table updated with netaffx build 28, June 08, 2012: annotation table updated with netaffx build 32, June 27, 2016: annotation table updated with netaffx build 35\n - web_link : http://www.affymetrix.com/support/technical/byproduct.affx?product=hgu95, http://www.affymetrix.com/analysis/index.affx\n - contact_name : ,,Affymetrix, Inc.\n - contact_email : geo@ncbi.nlm.nih.gov, support@affymetrix.com\n - contact_phone : 888-362-2447\n - contact_institute : Affymetrix, Inc.\n - contact_address : \n - contact_city : Santa Clara\n - contact_state : CA\n - contact_zip/postal_code : 95051\n - contact_country : USA\n - contact_web_link : http://www.affymetrix.com/index.affx\n - data_row_count : 12625\nTable data:\n          ID  GB_ACC SPOT_ID Species Scientific Name Annotation Date  \\\n0    1000_at  X60188     NaN            Homo sapiens     Oct 6, 2014   \n1    1001_at  X60957     NaN            Homo sapiens     Oct 6, 2014   \n2  1002_f_at  X65962     NaN            Homo sapiens     Oct 6, 2014   \n3  1003_s_at  X68149     NaN            Homo sapiens     Oct 6, 2014   \n4    1004_at  X68149     NaN            Homo sapiens     Oct 6, 2014   \n\n       Sequence Type Sequence Source  \\\n0  Exemplar sequence         GenBank   \n1  Exemplar sequence         GenBank   \n2  Exemplar sequence         GenBank   \n3  Exemplar sequence         GenBank   \n4  Exemplar sequence         GenBank   \n\n                                  Target Description Representative Public ID  \\\n0  X60188 /FEATURE=mRNA /DEFINITION=HSERK1 Human ...                   X60188   \n1  X60957 /FEATURE=cds /DEFINITION=HSTIEMR Human ...                   X60957   \n2  X65962 /FEATURE=cds /DEFINITION=HSCP450 H.sapi...                   X65962   \n3  X68149 /FEATURE=cds /DEFINITION=HSBLR1A Homo s...                   X68149   \n4  X68149 /FEATURE=exon#2 /DEFINITION=HSBLR1A Hom...                   X68149   \n\n                                          Gene Title Gene Symbol  \\\n0                 mitogen-activated protein kinase 3       MAPK3   \n1  tyrosine kinase with immunoglobulin-like and E...        TIE1   \n2  cytochrome P450, family 2, subfamily C, polype...     CYP2C19   \n3                 chemokine (C-X-C motif) receptor 5       CXCR5   \n4                 chemokine (C-X-C motif) receptor 5       CXCR5   \n\n  ENTREZ_GENE_ID                               RefSeq Transcript ID  \\\n0           5595  NM_001040056 /// NM_001109891 /// NM_002746 //...   \n1           7075  NM_001253357 /// NM_005424 /// XM_005271163 //...   \n2           1557                                          NM_000769   \n3            643                            NM_001716 /// NM_032966   \n4            643                            NM_001716 /// NM_032966   \n\n                    Gene Ontology Biological Process  \\\n0  0000165 // MAPK cascade // non-traceable autho...   \n1  0001525 // angiogenesis // inferred from elect...   \n2  0006805 // xenobiotic metabolic process // tra...   \n3  0006928 // cellular component movement // trac...   \n4  0006928 // cellular component movement // trac...   \n\n                    Gene Ontology Cellular Component  \\\n0  0005634 // nucleus // inferred from direct ass...   \n1  0005886 // plasma membrane // inferred from el...   \n2  0005783 // endoplasmic reticulum // inferred f...   \n3  0005886 // plasma membrane // traceable author...   \n4  0005886 // plasma membrane // traceable author...   \n\n                    Gene Ontology Molecular Function  \n0  0000166 // nucleotide binding // inferred from...  \n1  0000166 // nucleotide binding // inferred from...  \n2  0004497 // monooxygenase activity // inferred ...  \n3  0004871 // signal transducer activity // infer...  \n4  0004871 // signal transducer activity // infer...  \n",
          "name": "stdout"
        }
      ]
    },
    {
      "metadata": {
        "trusted": true
      },
      "cell_type": "code",
      "source": "# downloading the dataset from https://www.ncbi.nlm.nih.gov/geo/query/acc.cgi?acc=GSE54650\n\ngse = GEOparse.get_GEO(geo=\"GSE54650\", destdir=\"./\")\n\nprint()\nprint(\"GSM example:\")\nfor gsm_name, gsm in gse.gsms.items():\n    print(\"Name: \", gsm_name)\n    print(\"Metadata:\",)\n    for key, value in gsm.metadata.items():\n        print(\" - %s : %s\" % (key, \", \".join(value)))\n    print (\"Table data:\",)\n    print (gsm.table.head())\n    break",
      "execution_count": 6,
      "outputs": [
        {
          "output_type": "stream",
          "text": "18-Jan-2019 07:59:57 DEBUG utils - Directory ./ already exists. Skipping.\n18-Jan-2019 07:59:58 INFO GEOparse - Downloading ftp://ftp.ncbi.nlm.nih.gov/geo/series/GSE54nnn/GSE54650/soft/GSE54650_family.soft.gz to ./GSE54650_family.soft.gz\n18-Jan-2019 07:59:58 INFO utils - Downloading ftp://ftp.ncbi.nlm.nih.gov/geo/series/GSE54nnn/GSE54650/soft/GSE54650_family.soft.gz to ./GSE54650_family.soft.gz\n",
          "name": "stderr"
        },
        {
          "output_type": "stream",
          "text": "D: 100% - 65.9MiB  / 65.9MiB  eta 0:00:01\n",
          "name": "stdout"
        },
        {
          "output_type": "stream",
          "text": "18-Jan-2019 08:08:20 INFO GEOparse - Parsing ./GSE54650_family.soft.gz: \n18-Jan-2019 08:08:20 DEBUG GEOparse - DATABASE: GeoMiame\n18-Jan-2019 08:08:20 DEBUG GEOparse - SERIES: GSE54650\n18-Jan-2019 08:08:20 DEBUG GEOparse - PLATFORM: GPL6246\n18-Jan-2019 08:09:42 DEBUG GEOparse - SAMPLE: GSM1320990\n18-Jan-2019 08:09:43 DEBUG GEOparse - SAMPLE: GSM1320991\n18-Jan-2019 08:09:44 DEBUG GEOparse - SAMPLE: GSM1320992\n18-Jan-2019 08:09:46 DEBUG GEOparse - SAMPLE: GSM1320993\n18-Jan-2019 08:09:47 DEBUG GEOparse - SAMPLE: GSM1320994\n18-Jan-2019 08:09:48 DEBUG GEOparse - SAMPLE: GSM1320995\n18-Jan-2019 08:09:49 DEBUG GEOparse - SAMPLE: GSM1320996\n18-Jan-2019 08:09:51 DEBUG GEOparse - SAMPLE: GSM1320997\n18-Jan-2019 08:09:52 DEBUG GEOparse - SAMPLE: GSM1320998\n18-Jan-2019 08:09:53 DEBUG GEOparse - SAMPLE: GSM1320999\n18-Jan-2019 08:09:54 DEBUG GEOparse - SAMPLE: GSM1321000\n18-Jan-2019 08:09:55 DEBUG GEOparse - SAMPLE: GSM1321001\n18-Jan-2019 08:09:57 DEBUG GEOparse - SAMPLE: GSM1321002\n18-Jan-2019 08:09:58 DEBUG GEOparse - SAMPLE: GSM1321003\n18-Jan-2019 08:09:59 DEBUG GEOparse - SAMPLE: GSM1321004\n18-Jan-2019 08:10:00 DEBUG GEOparse - SAMPLE: GSM1321005\n18-Jan-2019 08:10:01 DEBUG GEOparse - SAMPLE: GSM1321006\n18-Jan-2019 08:10:03 DEBUG GEOparse - SAMPLE: GSM1321007\n18-Jan-2019 08:10:04 DEBUG GEOparse - SAMPLE: GSM1321008\n18-Jan-2019 08:10:05 DEBUG GEOparse - SAMPLE: GSM1321009\n18-Jan-2019 08:10:06 DEBUG GEOparse - SAMPLE: GSM1321010\n18-Jan-2019 08:10:07 DEBUG GEOparse - SAMPLE: GSM1321011\n18-Jan-2019 08:10:09 DEBUG GEOparse - SAMPLE: GSM1321012\n18-Jan-2019 08:10:10 DEBUG GEOparse - SAMPLE: GSM1321013\n18-Jan-2019 08:10:11 DEBUG GEOparse - SAMPLE: GSM1321014\n18-Jan-2019 08:10:12 DEBUG GEOparse - SAMPLE: GSM1321015\n18-Jan-2019 08:10:13 DEBUG GEOparse - SAMPLE: GSM1321016\n18-Jan-2019 08:10:15 DEBUG GEOparse - SAMPLE: GSM1321017\n18-Jan-2019 08:10:16 DEBUG GEOparse - SAMPLE: GSM1321018\n18-Jan-2019 08:10:17 DEBUG GEOparse - SAMPLE: GSM1321019\n18-Jan-2019 08:10:18 DEBUG GEOparse - SAMPLE: GSM1321020\n18-Jan-2019 08:10:19 DEBUG GEOparse - SAMPLE: GSM1321021\n18-Jan-2019 08:10:21 DEBUG GEOparse - SAMPLE: GSM1321022\n18-Jan-2019 08:10:22 DEBUG GEOparse - SAMPLE: GSM1321023\n18-Jan-2019 08:10:23 DEBUG GEOparse - SAMPLE: GSM1321024\n18-Jan-2019 08:10:24 DEBUG GEOparse - SAMPLE: GSM1321025\n18-Jan-2019 08:10:25 DEBUG GEOparse - SAMPLE: GSM1321026\n18-Jan-2019 08:10:27 DEBUG GEOparse - SAMPLE: GSM1321027\n18-Jan-2019 08:10:28 DEBUG GEOparse - SAMPLE: GSM1321028\n18-Jan-2019 08:10:29 DEBUG GEOparse - SAMPLE: GSM1321029\n18-Jan-2019 08:10:30 DEBUG GEOparse - SAMPLE: GSM1321030\n18-Jan-2019 08:10:32 DEBUG GEOparse - SAMPLE: GSM1321031\n18-Jan-2019 08:10:33 DEBUG GEOparse - SAMPLE: GSM1321032\n18-Jan-2019 08:10:34 DEBUG GEOparse - SAMPLE: GSM1321033\n18-Jan-2019 08:10:35 DEBUG GEOparse - SAMPLE: GSM1321034\n18-Jan-2019 08:10:36 DEBUG GEOparse - SAMPLE: GSM1321035\n18-Jan-2019 08:10:38 DEBUG GEOparse - SAMPLE: GSM1321036\n18-Jan-2019 08:10:39 DEBUG GEOparse - SAMPLE: GSM1321037\n18-Jan-2019 08:10:40 DEBUG GEOparse - SAMPLE: GSM1321038\n18-Jan-2019 08:10:41 DEBUG GEOparse - SAMPLE: GSM1321039\n18-Jan-2019 08:10:43 DEBUG GEOparse - SAMPLE: GSM1321040\n18-Jan-2019 08:10:44 DEBUG GEOparse - SAMPLE: GSM1321041\n18-Jan-2019 08:10:45 DEBUG GEOparse - SAMPLE: GSM1321042\n18-Jan-2019 08:10:46 DEBUG GEOparse - SAMPLE: GSM1321043\n18-Jan-2019 08:10:48 DEBUG GEOparse - SAMPLE: GSM1321044\n18-Jan-2019 08:10:49 DEBUG GEOparse - SAMPLE: GSM1321045\n18-Jan-2019 08:10:50 DEBUG GEOparse - SAMPLE: GSM1321046\n18-Jan-2019 08:10:52 DEBUG GEOparse - SAMPLE: GSM1321047\n18-Jan-2019 08:10:53 DEBUG GEOparse - SAMPLE: GSM1321048\n18-Jan-2019 08:10:54 DEBUG GEOparse - SAMPLE: GSM1321049\n18-Jan-2019 08:10:55 DEBUG GEOparse - SAMPLE: GSM1321050\n18-Jan-2019 08:10:57 DEBUG GEOparse - SAMPLE: GSM1321051\n18-Jan-2019 08:10:58 DEBUG GEOparse - SAMPLE: GSM1321052\n18-Jan-2019 08:10:59 DEBUG GEOparse - SAMPLE: GSM1321053\n18-Jan-2019 08:11:00 DEBUG GEOparse - SAMPLE: GSM1321054\n18-Jan-2019 08:11:02 DEBUG GEOparse - SAMPLE: GSM1321055\n18-Jan-2019 08:11:03 DEBUG GEOparse - SAMPLE: GSM1321056\n18-Jan-2019 08:11:04 DEBUG GEOparse - SAMPLE: GSM1321057\n18-Jan-2019 08:11:05 DEBUG GEOparse - SAMPLE: GSM1321058\n18-Jan-2019 08:11:07 DEBUG GEOparse - SAMPLE: GSM1321059\n18-Jan-2019 08:11:08 DEBUG GEOparse - SAMPLE: GSM1321060\n18-Jan-2019 08:11:09 DEBUG GEOparse - SAMPLE: GSM1321061\n18-Jan-2019 08:11:10 DEBUG GEOparse - SAMPLE: GSM1321062\n18-Jan-2019 08:11:12 DEBUG GEOparse - SAMPLE: GSM1321063\n18-Jan-2019 08:11:13 DEBUG GEOparse - SAMPLE: GSM1321064\n18-Jan-2019 08:11:14 DEBUG GEOparse - SAMPLE: GSM1321065\n18-Jan-2019 08:11:15 DEBUG GEOparse - SAMPLE: GSM1321066\n18-Jan-2019 08:11:17 DEBUG GEOparse - SAMPLE: GSM1321067\n18-Jan-2019 08:11:18 DEBUG GEOparse - SAMPLE: GSM1321068\n18-Jan-2019 08:11:19 DEBUG GEOparse - SAMPLE: GSM1321069\n18-Jan-2019 08:11:20 DEBUG GEOparse - SAMPLE: GSM1321070\n18-Jan-2019 08:11:22 DEBUG GEOparse - SAMPLE: GSM1321071\n18-Jan-2019 08:11:23 DEBUG GEOparse - SAMPLE: GSM1321072\n18-Jan-2019 08:11:25 DEBUG GEOparse - SAMPLE: GSM1321073\n18-Jan-2019 08:11:26 DEBUG GEOparse - SAMPLE: GSM1321074\n18-Jan-2019 08:11:27 DEBUG GEOparse - SAMPLE: GSM1321075\n18-Jan-2019 08:11:29 DEBUG GEOparse - SAMPLE: GSM1321076\n18-Jan-2019 08:11:30 DEBUG GEOparse - SAMPLE: GSM1321077\n18-Jan-2019 08:11:31 DEBUG GEOparse - SAMPLE: GSM1321078\n18-Jan-2019 08:11:33 DEBUG GEOparse - SAMPLE: GSM1321079\n18-Jan-2019 08:11:34 DEBUG GEOparse - SAMPLE: GSM1321080\n18-Jan-2019 08:11:36 DEBUG GEOparse - SAMPLE: GSM1321081\n18-Jan-2019 08:11:37 DEBUG GEOparse - SAMPLE: GSM1321082\n18-Jan-2019 08:11:38 DEBUG GEOparse - SAMPLE: GSM1321083\n18-Jan-2019 08:11:40 DEBUG GEOparse - SAMPLE: GSM1321084\n18-Jan-2019 08:11:41 DEBUG GEOparse - SAMPLE: GSM1321085\n18-Jan-2019 08:11:43 DEBUG GEOparse - SAMPLE: GSM1321086\n18-Jan-2019 08:11:44 DEBUG GEOparse - SAMPLE: GSM1321087\n18-Jan-2019 08:11:46 DEBUG GEOparse - SAMPLE: GSM1321088\n18-Jan-2019 08:11:47 DEBUG GEOparse - SAMPLE: GSM1321089\n18-Jan-2019 08:11:49 DEBUG GEOparse - SAMPLE: GSM1321090\n18-Jan-2019 08:11:50 DEBUG GEOparse - SAMPLE: GSM1321091\n18-Jan-2019 08:11:52 DEBUG GEOparse - SAMPLE: GSM1321092\n18-Jan-2019 08:11:53 DEBUG GEOparse - SAMPLE: GSM1321093\n18-Jan-2019 08:11:54 DEBUG GEOparse - SAMPLE: GSM1321094\n18-Jan-2019 08:11:56 DEBUG GEOparse - SAMPLE: GSM1321095\n18-Jan-2019 08:11:57 DEBUG GEOparse - SAMPLE: GSM1321096\n18-Jan-2019 08:11:59 DEBUG GEOparse - SAMPLE: GSM1321097\n18-Jan-2019 08:12:00 DEBUG GEOparse - SAMPLE: GSM1321098\n18-Jan-2019 08:12:01 DEBUG GEOparse - SAMPLE: GSM1321099\n18-Jan-2019 08:12:03 DEBUG GEOparse - SAMPLE: GSM1321100\n18-Jan-2019 08:12:04 DEBUG GEOparse - SAMPLE: GSM1321101\n18-Jan-2019 08:12:05 DEBUG GEOparse - SAMPLE: GSM1321102\n18-Jan-2019 08:12:07 DEBUG GEOparse - SAMPLE: GSM1321103\n18-Jan-2019 08:12:08 DEBUG GEOparse - SAMPLE: GSM1321104\n18-Jan-2019 08:12:10 DEBUG GEOparse - SAMPLE: GSM1321105\n18-Jan-2019 08:12:11 DEBUG GEOparse - SAMPLE: GSM1321106\n18-Jan-2019 08:12:13 DEBUG GEOparse - SAMPLE: GSM1321107\n18-Jan-2019 08:12:14 DEBUG GEOparse - SAMPLE: GSM1321108\n18-Jan-2019 08:12:16 DEBUG GEOparse - SAMPLE: GSM1321109\n18-Jan-2019 08:12:17 DEBUG GEOparse - SAMPLE: GSM1321110\n18-Jan-2019 08:12:19 DEBUG GEOparse - SAMPLE: GSM1321111\n18-Jan-2019 08:12:20 DEBUG GEOparse - SAMPLE: GSM1321112\n18-Jan-2019 08:12:21 DEBUG GEOparse - SAMPLE: GSM1321113\n18-Jan-2019 08:12:23 DEBUG GEOparse - SAMPLE: GSM1321114\n18-Jan-2019 08:12:24 DEBUG GEOparse - SAMPLE: GSM1321115\n18-Jan-2019 08:12:26 DEBUG GEOparse - SAMPLE: GSM1321116\n18-Jan-2019 08:12:27 DEBUG GEOparse - SAMPLE: GSM1321117\n18-Jan-2019 08:12:29 DEBUG GEOparse - SAMPLE: GSM1321118\n18-Jan-2019 08:12:30 DEBUG GEOparse - SAMPLE: GSM1321119\n18-Jan-2019 08:12:31 DEBUG GEOparse - SAMPLE: GSM1321120\n18-Jan-2019 08:12:33 DEBUG GEOparse - SAMPLE: GSM1321121\n18-Jan-2019 08:12:34 DEBUG GEOparse - SAMPLE: GSM1321122\n18-Jan-2019 08:12:36 DEBUG GEOparse - SAMPLE: GSM1321123\n18-Jan-2019 08:12:37 DEBUG GEOparse - SAMPLE: GSM1321124\n18-Jan-2019 08:12:38 DEBUG GEOparse - SAMPLE: GSM1321125\n18-Jan-2019 08:12:40 DEBUG GEOparse - SAMPLE: GSM1321126\n18-Jan-2019 08:12:41 DEBUG GEOparse - SAMPLE: GSM1321127\n18-Jan-2019 08:12:42 DEBUG GEOparse - SAMPLE: GSM1321128\n18-Jan-2019 08:12:44 DEBUG GEOparse - SAMPLE: GSM1321129\n",
          "name": "stderr"
        },
        {
          "output_type": "stream",
          "text": "18-Jan-2019 08:12:45 DEBUG GEOparse - SAMPLE: GSM1321130\n18-Jan-2019 08:12:47 DEBUG GEOparse - SAMPLE: GSM1321131\n18-Jan-2019 08:12:48 DEBUG GEOparse - SAMPLE: GSM1321132\n18-Jan-2019 08:12:49 DEBUG GEOparse - SAMPLE: GSM1321133\n18-Jan-2019 08:12:51 DEBUG GEOparse - SAMPLE: GSM1321134\n18-Jan-2019 08:12:52 DEBUG GEOparse - SAMPLE: GSM1321135\n18-Jan-2019 08:12:54 DEBUG GEOparse - SAMPLE: GSM1321136\n18-Jan-2019 08:12:55 DEBUG GEOparse - SAMPLE: GSM1321137\n18-Jan-2019 08:12:56 DEBUG GEOparse - SAMPLE: GSM1321138\n18-Jan-2019 08:12:58 DEBUG GEOparse - SAMPLE: GSM1321139\n18-Jan-2019 08:12:59 DEBUG GEOparse - SAMPLE: GSM1321140\n18-Jan-2019 08:13:01 DEBUG GEOparse - SAMPLE: GSM1321141\n18-Jan-2019 08:13:02 DEBUG GEOparse - SAMPLE: GSM1321142\n18-Jan-2019 08:13:03 DEBUG GEOparse - SAMPLE: GSM1321143\n18-Jan-2019 08:13:05 DEBUG GEOparse - SAMPLE: GSM1321144\n18-Jan-2019 08:13:06 DEBUG GEOparse - SAMPLE: GSM1321145\n18-Jan-2019 08:13:07 DEBUG GEOparse - SAMPLE: GSM1321146\n18-Jan-2019 08:13:09 DEBUG GEOparse - SAMPLE: GSM1321147\n18-Jan-2019 08:13:10 DEBUG GEOparse - SAMPLE: GSM1321148\n18-Jan-2019 08:13:11 DEBUG GEOparse - SAMPLE: GSM1321149\n18-Jan-2019 08:13:13 DEBUG GEOparse - SAMPLE: GSM1321150\n18-Jan-2019 08:13:14 DEBUG GEOparse - SAMPLE: GSM1321151\n18-Jan-2019 08:13:15 DEBUG GEOparse - SAMPLE: GSM1321152\n18-Jan-2019 08:13:17 DEBUG GEOparse - SAMPLE: GSM1321153\n18-Jan-2019 08:13:18 DEBUG GEOparse - SAMPLE: GSM1321154\n18-Jan-2019 08:13:19 DEBUG GEOparse - SAMPLE: GSM1321155\n18-Jan-2019 08:13:20 DEBUG GEOparse - SAMPLE: GSM1321156\n18-Jan-2019 08:13:22 DEBUG GEOparse - SAMPLE: GSM1321157\n18-Jan-2019 08:13:23 DEBUG GEOparse - SAMPLE: GSM1321158\n18-Jan-2019 08:13:24 DEBUG GEOparse - SAMPLE: GSM1321159\n18-Jan-2019 08:13:26 DEBUG GEOparse - SAMPLE: GSM1321160\n18-Jan-2019 08:13:27 DEBUG GEOparse - SAMPLE: GSM1321161\n18-Jan-2019 08:13:28 DEBUG GEOparse - SAMPLE: GSM1321162\n18-Jan-2019 08:13:30 DEBUG GEOparse - SAMPLE: GSM1321163\n18-Jan-2019 08:13:31 DEBUG GEOparse - SAMPLE: GSM1321164\n18-Jan-2019 08:13:33 DEBUG GEOparse - SAMPLE: GSM1321165\n18-Jan-2019 08:13:34 DEBUG GEOparse - SAMPLE: GSM1321166\n18-Jan-2019 08:13:35 DEBUG GEOparse - SAMPLE: GSM1321167\n18-Jan-2019 08:13:37 DEBUG GEOparse - SAMPLE: GSM1321168\n18-Jan-2019 08:13:38 DEBUG GEOparse - SAMPLE: GSM1321169\n18-Jan-2019 08:13:40 DEBUG GEOparse - SAMPLE: GSM1321170\n18-Jan-2019 08:13:41 DEBUG GEOparse - SAMPLE: GSM1321171\n18-Jan-2019 08:13:42 DEBUG GEOparse - SAMPLE: GSM1321172\n18-Jan-2019 08:13:44 DEBUG GEOparse - SAMPLE: GSM1321173\n18-Jan-2019 08:13:45 DEBUG GEOparse - SAMPLE: GSM1321174\n18-Jan-2019 08:13:46 DEBUG GEOparse - SAMPLE: GSM1321175\n18-Jan-2019 08:13:48 DEBUG GEOparse - SAMPLE: GSM1321176\n18-Jan-2019 08:13:49 DEBUG GEOparse - SAMPLE: GSM1321177\n18-Jan-2019 08:13:50 DEBUG GEOparse - SAMPLE: GSM1321178\n18-Jan-2019 08:13:52 DEBUG GEOparse - SAMPLE: GSM1321179\n18-Jan-2019 08:13:53 DEBUG GEOparse - SAMPLE: GSM1321180\n18-Jan-2019 08:13:55 DEBUG GEOparse - SAMPLE: GSM1321181\n18-Jan-2019 08:13:56 DEBUG GEOparse - SAMPLE: GSM1321182\n18-Jan-2019 08:13:58 DEBUG GEOparse - SAMPLE: GSM1321183\n18-Jan-2019 08:13:59 DEBUG GEOparse - SAMPLE: GSM1321184\n18-Jan-2019 08:14:01 DEBUG GEOparse - SAMPLE: GSM1321185\n18-Jan-2019 08:14:02 DEBUG GEOparse - SAMPLE: GSM1321186\n18-Jan-2019 08:14:03 DEBUG GEOparse - SAMPLE: GSM1321187\n18-Jan-2019 08:14:05 DEBUG GEOparse - SAMPLE: GSM1321188\n18-Jan-2019 08:14:06 DEBUG GEOparse - SAMPLE: GSM1321189\n18-Jan-2019 08:14:08 DEBUG GEOparse - SAMPLE: GSM1321190\n18-Jan-2019 08:14:09 DEBUG GEOparse - SAMPLE: GSM1321191\n18-Jan-2019 08:14:10 DEBUG GEOparse - SAMPLE: GSM1321192\n18-Jan-2019 08:14:12 DEBUG GEOparse - SAMPLE: GSM1321193\n18-Jan-2019 08:14:13 DEBUG GEOparse - SAMPLE: GSM1321194\n18-Jan-2019 08:14:15 DEBUG GEOparse - SAMPLE: GSM1321195\n18-Jan-2019 08:14:16 DEBUG GEOparse - SAMPLE: GSM1321196\n18-Jan-2019 08:14:18 DEBUG GEOparse - SAMPLE: GSM1321197\n18-Jan-2019 08:14:19 DEBUG GEOparse - SAMPLE: GSM1321198\n18-Jan-2019 08:14:20 DEBUG GEOparse - SAMPLE: GSM1321199\n18-Jan-2019 08:14:22 DEBUG GEOparse - SAMPLE: GSM1321200\n18-Jan-2019 08:14:23 DEBUG GEOparse - SAMPLE: GSM1321201\n18-Jan-2019 08:14:25 DEBUG GEOparse - SAMPLE: GSM1321202\n18-Jan-2019 08:14:26 DEBUG GEOparse - SAMPLE: GSM1321203\n18-Jan-2019 08:14:28 DEBUG GEOparse - SAMPLE: GSM1321204\n18-Jan-2019 08:14:29 DEBUG GEOparse - SAMPLE: GSM1321205\n18-Jan-2019 08:14:30 DEBUG GEOparse - SAMPLE: GSM1321206\n18-Jan-2019 08:14:32 DEBUG GEOparse - SAMPLE: GSM1321207\n18-Jan-2019 08:14:33 DEBUG GEOparse - SAMPLE: GSM1321208\n18-Jan-2019 08:14:35 DEBUG GEOparse - SAMPLE: GSM1321209\n18-Jan-2019 08:14:36 DEBUG GEOparse - SAMPLE: GSM1321210\n18-Jan-2019 08:14:38 DEBUG GEOparse - SAMPLE: GSM1321211\n18-Jan-2019 08:14:39 DEBUG GEOparse - SAMPLE: GSM1321212\n18-Jan-2019 08:14:40 DEBUG GEOparse - SAMPLE: GSM1321213\n18-Jan-2019 08:14:42 DEBUG GEOparse - SAMPLE: GSM1321214\n18-Jan-2019 08:14:43 DEBUG GEOparse - SAMPLE: GSM1321215\n18-Jan-2019 08:14:45 DEBUG GEOparse - SAMPLE: GSM1321216\n18-Jan-2019 08:14:46 DEBUG GEOparse - SAMPLE: GSM1321217\n18-Jan-2019 08:14:48 DEBUG GEOparse - SAMPLE: GSM1321218\n18-Jan-2019 08:14:49 DEBUG GEOparse - SAMPLE: GSM1321219\n18-Jan-2019 08:14:51 DEBUG GEOparse - SAMPLE: GSM1321220\n18-Jan-2019 08:14:52 DEBUG GEOparse - SAMPLE: GSM1321221\n18-Jan-2019 08:14:53 DEBUG GEOparse - SAMPLE: GSM1321222\n18-Jan-2019 08:14:55 DEBUG GEOparse - SAMPLE: GSM1321223\n18-Jan-2019 08:14:56 DEBUG GEOparse - SAMPLE: GSM1321224\n18-Jan-2019 08:14:58 DEBUG GEOparse - SAMPLE: GSM1321225\n18-Jan-2019 08:14:59 DEBUG GEOparse - SAMPLE: GSM1321226\n18-Jan-2019 08:15:00 DEBUG GEOparse - SAMPLE: GSM1321227\n18-Jan-2019 08:15:02 DEBUG GEOparse - SAMPLE: GSM1321228\n18-Jan-2019 08:15:03 DEBUG GEOparse - SAMPLE: GSM1321229\n18-Jan-2019 08:15:04 DEBUG GEOparse - SAMPLE: GSM1321230\n18-Jan-2019 08:15:06 DEBUG GEOparse - SAMPLE: GSM1321231\n18-Jan-2019 08:15:07 DEBUG GEOparse - SAMPLE: GSM1321232\n18-Jan-2019 08:15:09 DEBUG GEOparse - SAMPLE: GSM1321233\n18-Jan-2019 08:15:10 DEBUG GEOparse - SAMPLE: GSM1321234\n18-Jan-2019 08:15:12 DEBUG GEOparse - SAMPLE: GSM1321235\n18-Jan-2019 08:15:13 DEBUG GEOparse - SAMPLE: GSM1321236\n18-Jan-2019 08:15:14 DEBUG GEOparse - SAMPLE: GSM1321237\n18-Jan-2019 08:15:16 DEBUG GEOparse - SAMPLE: GSM1321238\n18-Jan-2019 08:15:17 DEBUG GEOparse - SAMPLE: GSM1321239\n18-Jan-2019 08:15:19 DEBUG GEOparse - SAMPLE: GSM1321240\n18-Jan-2019 08:15:20 DEBUG GEOparse - SAMPLE: GSM1321241\n18-Jan-2019 08:15:21 DEBUG GEOparse - SAMPLE: GSM1321242\n18-Jan-2019 08:15:23 DEBUG GEOparse - SAMPLE: GSM1321243\n18-Jan-2019 08:15:24 DEBUG GEOparse - SAMPLE: GSM1321244\n18-Jan-2019 08:15:26 DEBUG GEOparse - SAMPLE: GSM1321245\n18-Jan-2019 08:15:27 DEBUG GEOparse - SAMPLE: GSM1321246\n18-Jan-2019 08:15:29 DEBUG GEOparse - SAMPLE: GSM1321247\n18-Jan-2019 08:15:30 DEBUG GEOparse - SAMPLE: GSM1321248\n18-Jan-2019 08:15:31 DEBUG GEOparse - SAMPLE: GSM1321249\n18-Jan-2019 08:15:33 DEBUG GEOparse - SAMPLE: GSM1321250\n18-Jan-2019 08:15:34 DEBUG GEOparse - SAMPLE: GSM1321251\n18-Jan-2019 08:15:35 DEBUG GEOparse - SAMPLE: GSM1321252\n18-Jan-2019 08:15:37 DEBUG GEOparse - SAMPLE: GSM1321253\n18-Jan-2019 08:15:38 DEBUG GEOparse - SAMPLE: GSM1321254\n18-Jan-2019 08:15:39 DEBUG GEOparse - SAMPLE: GSM1321255\n18-Jan-2019 08:15:41 DEBUG GEOparse - SAMPLE: GSM1321256\n18-Jan-2019 08:15:42 DEBUG GEOparse - SAMPLE: GSM1321257\n18-Jan-2019 08:15:44 DEBUG GEOparse - SAMPLE: GSM1321258\n18-Jan-2019 08:15:45 DEBUG GEOparse - SAMPLE: GSM1321259\n18-Jan-2019 08:15:46 DEBUG GEOparse - SAMPLE: GSM1321260\n18-Jan-2019 08:15:48 DEBUG GEOparse - SAMPLE: GSM1321261\n18-Jan-2019 08:15:49 DEBUG GEOparse - SAMPLE: GSM1321262\n18-Jan-2019 08:15:51 DEBUG GEOparse - SAMPLE: GSM1321263\n18-Jan-2019 08:15:52 DEBUG GEOparse - SAMPLE: GSM1321264\n18-Jan-2019 08:15:53 DEBUG GEOparse - SAMPLE: GSM1321265\n18-Jan-2019 08:15:55 DEBUG GEOparse - SAMPLE: GSM1321266\n18-Jan-2019 08:15:56 DEBUG GEOparse - SAMPLE: GSM1321267\n18-Jan-2019 08:15:58 DEBUG GEOparse - SAMPLE: GSM1321268\n18-Jan-2019 08:15:59 DEBUG GEOparse - SAMPLE: GSM1321269\n18-Jan-2019 08:16:00 DEBUG GEOparse - SAMPLE: GSM1321270\n18-Jan-2019 08:16:02 DEBUG GEOparse - SAMPLE: GSM1321271\n18-Jan-2019 08:16:03 DEBUG GEOparse - SAMPLE: GSM1321272\n18-Jan-2019 08:16:05 DEBUG GEOparse - SAMPLE: GSM1321273\n",
          "name": "stderr"
        },
        {
          "output_type": "stream",
          "text": "18-Jan-2019 08:16:06 DEBUG GEOparse - SAMPLE: GSM1321274\n18-Jan-2019 08:16:07 DEBUG GEOparse - SAMPLE: GSM1321275\n18-Jan-2019 08:16:09 DEBUG GEOparse - SAMPLE: GSM1321276\n18-Jan-2019 08:16:10 DEBUG GEOparse - SAMPLE: GSM1321277\n",
          "name": "stderr"
        },
        {
          "output_type": "stream",
          "text": "\nGSM example:\nName:  GSM1320990\nMetadata:\n - title : Adr_CT18\n - geo_accession : GSM1320990\n - status : Public on Sep 30 2014\n - submission_date : Feb 04 2014\n - last_update_date : Sep 30 2014\n - type : RNA\n - channel_count : 1\n - source_name_ch1 : adrenal gland\n - organism_ch1 : Mus musculus\n - taxid_ch1 : 10090\n - characteristics_ch1 : strain: C57/BL6, tissue: adrenal gland\n - growth_protocol_ch1 : C57/BL6 mice were entrained to a 12h light : 12h dark schedule for one week. Mice were then transferred to complete darkness prior to collection. Collection began at CT18. Mice were housed in light-tight boxes for the duration of the experiment.\n - molecule_ch1 : total RNA\n - extract_protocol_ch1 : Organ samples were homogenized in Trizol reagent (Invitrogen) using a Tissuelyser (Qiagen). RNA was extracted using RNeasy columns (Qiagen) as per manufacturer’s protocol, then pooled from three mice for each organ and time point.\n - label_ch1 : biotin\n - label_protocol_ch1 : not provided\n - hyb_protocol : not provided\n - scan_protocol : not provided\n - data_processing : Intensity values normalized using Affymetrix Expression Console software (GC-RMA).\n - platform_id : GPL6246\n - contact_name : Nicholas,,Lahens\n - contact_department : ITMAT\n - contact_institute : UPenn\n - contact_address : Smilow Center for Translational Research 10-174 3400 Civic Center Blvd, Bldg 421\n - contact_city : Philadelphia\n - contact_state : PA\n - contact_zip/postal_code : 19104\n - contact_country : USA\n - supplementary_file : ftp://ftp.ncbi.nlm.nih.gov/geo/samples/GSM1320nnn/GSM1320990/suppl/GSM1320990_Adr18_MoGene1.0ST.CEL.gz\n - series_id : GSE54650, GSE54652\n - data_row_count : 35556\nTable data:\n     ID_REF   VALUE\n0  10338001  2749.7\n1  10338002    64.2\n2  10338003   787.2\n3  10338004   431.0\n4  10338005    11.6\n",
          "name": "stdout"
        }
      ]
    },
    {
      "metadata": {
        "trusted": true
      },
      "cell_type": "code",
      "source": "",
      "execution_count": null,
      "outputs": []
    }
  ],
  "metadata": {
    "kernelspec": {
      "name": "python36",
      "display_name": "Python 3.6",
      "language": "python"
    },
    "language_info": {
      "mimetype": "text/x-python",
      "nbconvert_exporter": "python",
      "name": "python",
      "pygments_lexer": "ipython3",
      "version": "3.6.6",
      "file_extension": ".py",
      "codemirror_mode": {
        "version": 3,
        "name": "ipython"
      }
    }
  },
  "nbformat": 4,
  "nbformat_minor": 2
}